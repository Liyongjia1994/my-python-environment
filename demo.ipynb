print('Welcome to My Python Environment')
